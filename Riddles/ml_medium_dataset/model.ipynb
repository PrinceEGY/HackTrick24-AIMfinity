{
 "cells": [
  {
   "cell_type": "markdown",
   "metadata": {},
   "source": [
    "# Connected:"
   ]
  },
  {
   "cell_type": "code",
   "execution_count": 27,
   "metadata": {},
   "outputs": [],
   "source": [
    "import pandas as pd\n",
    "import numpy as np"
   ]
  },
  {
   "cell_type": "code",
   "execution_count": 28,
   "metadata": {},
   "outputs": [],
   "source": [
    "df=pd.read_csv('MlMediumTrainingData.csv')"
   ]
  },
  {
   "cell_type": "code",
   "execution_count": 29,
   "metadata": {},
   "outputs": [
    {
     "data": {
      "text/plain": [
       "x_       0\n",
       "y_       0\n",
       "class    0\n",
       "dtype: int64"
      ]
     },
     "execution_count": 29,
     "metadata": {},
     "output_type": "execute_result"
    }
   ],
   "source": [
    "df.isnull().sum()"
   ]
  },
  {
   "cell_type": "code",
   "execution_count": 30,
   "metadata": {},
   "outputs": [
    {
     "name": "stderr",
     "output_type": "stream",
     "text": [
      "c:\\Users\\Planet_X\\AppData\\Local\\Programs\\Python\\Python311\\Lib\\site-packages\\sklearn\\cluster\\_kmeans.py:870: FutureWarning: The default value of `n_init` will change from 10 to 'auto' in 1.4. Set the value of `n_init` explicitly to suppress the warning\n",
      "  warnings.warn(\n",
      "c:\\Users\\Planet_X\\AppData\\Local\\Programs\\Python\\Python311\\Lib\\site-packages\\sklearn\\metrics\\_classification.py:1344: UndefinedMetricWarning: Precision and F-score are ill-defined and being set to 0.0 in labels with no predicted samples. Use `zero_division` parameter to control this behavior.\n",
      "  _warn_prf(average, modifier, msg_start, len(result))\n",
      "c:\\Users\\Planet_X\\AppData\\Local\\Programs\\Python\\Python311\\Lib\\site-packages\\sklearn\\metrics\\_classification.py:1344: UndefinedMetricWarning: Recall and F-score are ill-defined and being set to 0.0 in labels with no true samples. Use `zero_division` parameter to control this behavior.\n",
      "  _warn_prf(average, modifier, msg_start, len(result))\n",
      "c:\\Users\\Planet_X\\AppData\\Local\\Programs\\Python\\Python311\\Lib\\site-packages\\sklearn\\metrics\\_classification.py:1344: UndefinedMetricWarning: Precision and F-score are ill-defined and being set to 0.0 in labels with no predicted samples. Use `zero_division` parameter to control this behavior.\n",
      "  _warn_prf(average, modifier, msg_start, len(result))\n",
      "c:\\Users\\Planet_X\\AppData\\Local\\Programs\\Python\\Python311\\Lib\\site-packages\\sklearn\\metrics\\_classification.py:1344: UndefinedMetricWarning: Recall and F-score are ill-defined and being set to 0.0 in labels with no true samples. Use `zero_division` parameter to control this behavior.\n",
      "  _warn_prf(average, modifier, msg_start, len(result))\n",
      "c:\\Users\\Planet_X\\AppData\\Local\\Programs\\Python\\Python311\\Lib\\site-packages\\sklearn\\metrics\\_classification.py:1344: UndefinedMetricWarning: Precision and F-score are ill-defined and being set to 0.0 in labels with no predicted samples. Use `zero_division` parameter to control this behavior.\n",
      "  _warn_prf(average, modifier, msg_start, len(result))\n",
      "c:\\Users\\Planet_X\\AppData\\Local\\Programs\\Python\\Python311\\Lib\\site-packages\\sklearn\\metrics\\_classification.py:1344: UndefinedMetricWarning: Recall and F-score are ill-defined and being set to 0.0 in labels with no true samples. Use `zero_division` parameter to control this behavior.\n",
      "  _warn_prf(average, modifier, msg_start, len(result))\n"
     ]
    },
    {
     "name": "stdout",
     "output_type": "stream",
     "text": [
      "Logistic Regression Classification Report:\n",
      "              precision    recall  f1-score   support\n",
      "\n",
      "          -1       0.59      0.37      0.45       196\n",
      "           0       0.56      0.76      0.65       210\n",
      "\n",
      "    accuracy                           0.57       406\n",
      "   macro avg       0.57      0.56      0.55       406\n",
      "weighted avg       0.57      0.57      0.55       406\n",
      "\n",
      "K-means Classification Report:\n",
      "              precision    recall  f1-score   support\n",
      "\n",
      "          -1       0.00      0.00      0.00       992\n",
      "           0       0.52      0.50      0.51      1037\n",
      "           1       0.00      0.00      0.00         0\n",
      "\n",
      "    accuracy                           0.25      2029\n",
      "   macro avg       0.17      0.17      0.17      2029\n",
      "weighted avg       0.26      0.25      0.26      2029\n",
      "\n",
      "Random Forest Classifier Classification Report:\n",
      "              precision    recall  f1-score   support\n",
      "\n",
      "          -1       0.99      1.00      1.00       196\n",
      "           0       1.00      1.00      1.00       210\n",
      "\n",
      "    accuracy                           1.00       406\n",
      "   macro avg       1.00      1.00      1.00       406\n",
      "weighted avg       1.00      1.00      1.00       406\n",
      "\n",
      "Support Vector Classifier Classification Report:\n",
      "              precision    recall  f1-score   support\n",
      "\n",
      "          -1       0.81      1.00      0.90       196\n",
      "           0       1.00      0.79      0.88       210\n",
      "\n",
      "    accuracy                           0.89       406\n",
      "   macro avg       0.91      0.89      0.89       406\n",
      "weighted avg       0.91      0.89      0.89       406\n",
      "\n",
      "[-1]\n"
     ]
    },
    {
     "name": "stderr",
     "output_type": "stream",
     "text": [
      "c:\\Users\\Planet_X\\AppData\\Local\\Programs\\Python\\Python311\\Lib\\site-packages\\sklearn\\base.py:439: UserWarning: X does not have valid feature names, but RandomForestClassifier was fitted with feature names\n",
      "  warnings.warn(\n"
     ]
    }
   ],
   "source": [
    "from json import load\n",
    "import pandas as pd\n",
    "import numpy as np\n",
    "from sklearn.model_selection import train_test_split\n",
    "from sklearn.linear_model import LogisticRegression\n",
    "from sklearn.cluster import KMeans\n",
    "from sklearn.metrics import classification_report\n",
    "from sklearn.utils import resample\n",
    "from sklearn.ensemble import RandomForestClassifier\n",
    "from sklearn.svm import SVC\n",
    "import pickle\n",
    "\n",
    "\n",
    "# Separate the majority and minority classes\n",
    "df_majority = df[df['class'] == 0]\n",
    "df_minority = df[df['class'] == -1]\n",
    "\n",
    "# Upsample the minority class\n",
    "df_minority_upsampled = resample(df_minority, replace=True, n_samples=len(df_majority), random_state=42)\n",
    "\n",
    "# Combine the upsampled minority class with the majority class\n",
    "df_resampled = pd.concat([df_majority, df_minority_upsampled])\n",
    "\n",
    "# Shuffle the resampled dataframe\n",
    "df_resampled = df_resampled.sample(frac=0.5, random_state=42)\n",
    "\n",
    "\n",
    "X = df_resampled[['x_', 'y_']]\n",
    "y = df_resampled['class']\n",
    "\n",
    "\n",
    "# Split the data into training and testing sets\n",
    "X_train, X_test, y_train, y_test = train_test_split(X, y, test_size=0.2, random_state=42)\n",
    "\n",
    "# Create a logistic regression model\n",
    "logreg = LogisticRegression()\n",
    "\n",
    "# Fit the model on the training data\n",
    "logreg.fit(X_train, y_train)\n",
    "\n",
    "# Predict the classes for the test data\n",
    "y_pred = logreg.predict(X_test)\n",
    "\n",
    "# K-means Clustering\n",
    "kmeans = KMeans(n_clusters=2)\n",
    "\n",
    "# Fit the model on the data\n",
    "kmeans.fit(X)\n",
    "\n",
    "# Get the cluster labels\n",
    "labels = kmeans.labels_\n",
    "# Evaluate Logistic Regression\n",
    "logreg_report = classification_report(y_test, y_pred)\n",
    "print(\"Logistic Regression Classification Report:\")\n",
    "print(logreg_report)\n",
    "\n",
    "# Evaluate K-means\n",
    "kmeans_report = classification_report(y, labels)\n",
    "print(\"K-means Classification Report:\")\n",
    "print(kmeans_report)\n",
    "\n",
    "# Create a Random Forest Classifier model\n",
    "rf = RandomForestClassifier()\n",
    "\n",
    "# Fit the model on the training data\n",
    "rf.fit(X_train, y_train)\n",
    "\n",
    "# Predict the classes for the test data\n",
    "y_pred_rf = rf.predict(X_test)\n",
    "\n",
    "# Create a Support Vector Classifier model\n",
    "svc = SVC()\n",
    "\n",
    "# Fit the model on the training data\n",
    "svc.fit(X_train, y_train)\n",
    "\n",
    "# Predict the classes for the test data\n",
    "y_pred_svc = svc.predict(X_test)\n",
    "\n",
    "# Evaluate Random Forest Classifier\n",
    "rf_report = classification_report(y_test, y_pred_rf)\n",
    "print(\"Random Forest Classifier Classification Report:\")\n",
    "print(rf_report)\n",
    "\n",
    "# Evaluate Support Vector Classifier\n",
    "svc_report = classification_report(y_test, y_pred_svc)\n",
    "print(\"Support Vector Classifier Classification Report:\")\n",
    "print(svc_report)\n",
    "\n",
    "# Save & loadthe random forest model\n",
    "# Save the random forest model\n",
    "with open('random_forest_model.pkl', 'wb') as file:\n",
    "    pickle.dump(rf, file)\n",
    "    \n",
    "# FILEPATH: /d:/Hack-Trick/AIMfinity/HackTrick24/Riddles/ml_medium_dataset/model.ipynb\n",
    "with open('random_forest_model.pkl', 'rb') as file:\n",
    "    loaded_rf = pickle.load(file)\n",
    "\n",
    "\n",
    "list_to_predict = [[14.26051583, -14.93873899]]\n",
    "predicted_class = loaded_rf.predict(list_to_predict)\n",
    "print(predicted_class)\n",
    "\n"
   ]
  },
  {
   "cell_type": "code",
   "execution_count": null,
   "metadata": {},
   "outputs": [],
   "source": []
  }
 ],
 "metadata": {
  "kernelspec": {
   "display_name": "Python 3",
   "language": "python",
   "name": "python3"
  },
  "language_info": {
   "codemirror_mode": {
    "name": "ipython",
    "version": 3
   },
   "file_extension": ".py",
   "mimetype": "text/x-python",
   "name": "python",
   "nbconvert_exporter": "python",
   "pygments_lexer": "ipython3",
   "version": "3.11.3"
  }
 },
 "nbformat": 4,
 "nbformat_minor": 2
}
