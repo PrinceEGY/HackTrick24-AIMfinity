{
 "cells": [
  {
   "cell_type": "code",
   "execution_count": 1,
   "metadata": {},
   "outputs": [],
   "source": [
    "import time\n",
    "from fox_submission_solver import FoxSolution\n",
    "from helpers import save_logs"
   ]
  },
  {
   "cell_type": "code",
   "execution_count": 2,
   "metadata": {},
   "outputs": [
    {
     "name": "stdout",
     "output_type": "stream",
     "text": [
      "Loading Stegano model...\n",
      "Model loaded.\n"
     ]
    }
   ],
   "source": [
    "fox = FoxSolution(LOGGING=True)"
   ]
  },
  {
   "cell_type": "code",
   "execution_count": 3,
   "metadata": {},
   "outputs": [
    {
     "name": "stdout",
     "output_type": "stream",
     "text": [
      "{'error': 'Invalid teamId'} 400\n"
     ]
    }
   ],
   "source": [
    "fox.remaining_attempts()"
   ]
  },
  {
   "cell_type": "code",
   "execution_count": 4,
   "metadata": {},
   "outputs": [],
   "source": [
    "fox.api_base_url = \"http://16.171.171.147:5000/fox\""
   ]
  },
  {
   "cell_type": "code",
   "execution_count": 5,
   "metadata": {},
   "outputs": [
    {
     "name": "stdout",
     "output_type": "stream",
     "text": [
      "Starting Fox Game...\n",
      "{\"carrier_image\":[[[31,57,48],[24,47,41],[25,43,43],[43,52,57],[37,32,39],[43,23,32],[77,38,43],[72,21,20],[86,21,15],[96,28,15],[102,36,22],[90,34,19],[82,44,33],[79,56,48],[70,65,62],[32,38,38],[11,26,29],[11,30,34],[12,31,35],[1,20,24]],[[15,34,28],[18,34,31],[29,40,42],[23,26,33],[56,46,55],[84,61,71],[74,33,39],[99,44,47],[102,35,29],[125,55,45],[131,63,50],[142,84,72],[163,120,111],[164,139,134],[151,141,140],[79,83,86],[18,32,35],[12,31,35],[12,31,35],[4,23,27]],[[15,24,23],[23,29,29],[52,53,58],[101,94,102],[114,96,108],[89,59,71],[97,51,61],[131,72,76],[161,91,91],[129,54,49],[177,104,97],[200,137,128],[168,121,115],[173,139,138],[166,147,151],[45,40,46],[33,44,48],[14,33,37],[11,30,34],[6,25,29]],[[14,18,19],[25,26,28],[30,27,34],[77,67,76],[105,87,99],[105,77,89],[128,87,95],[135,83,87],[127,63,63],[131,63,60],[146,81,75],[142,83,77],[166,121,118],[116,84,87],[59,38,45],[60,55,62],[50,61,65],[17,36,40],[8,27,31],[7,26,30]],[[25,31,31],[31,37,37],[30,31,36],[32,29,36],[87,77,86],[108,91,99],[95,66,71],[141,102,105],[197,149,147],[180,129,125],[186,137,132],[195,152,146],[185,151,150],[72,50,53],[34,21,30],[65,64,72],[62,75,81],[20,39,43],[5,24,28],[6,25,29]],[[14,24,23],[24,33,32],[28,36,39],[45,48,53],[69,68,74],[60,53,60],[59,43,46],[101,77,77],[170,139,136],[177,142,136],[183,150,145],[230,201,197],[223,203,202],[84,72,76],[71,66,73],[81,85,94],[63,78,83],[18,37,41],[4,23,27],[6,25,29]],[[19,31,29],[35,47,45],[25,36,38],[38,49,51],[47,55,58],[60,61,65],[93,89,90],[86,76,75],[67,52,49],[99,82,75],[113,95,91],[132,118,115],[155,146,147],[63,61,64],[51,54,61],[53,64,70],[50,68,72],[13,32,36],[6,25,29],[8,27,31]],[[15,27,25],[25,37,37],[34,45,47],[28,39,41],[33,43,45],[31,36,39],[44,45,47],[105,103,104],[79,74,71],[97,89,86],[114,104,102],[55,50,47],[79,77,80],[58,59,64],[36,43,51],[51,61,70],[40,58,62],[8,27,31],[8,27,31],[10,29,33]],[[16,21,24],[33,38,41],[40,45,49],[30,35,39],[59,62,67],[54,55,60],[26,25,30],[91,89,92],[92,86,88],[87,81,83],[97,88,91],[51,45,49],[71,69,74],[65,64,72],[39,42,51],[45,54,63],[49,64,69],[11,30,34],[4,23,27],[12,31,35]],[[23,28,32],[31,36,40],[36,41,45],[26,31,35],[54,57,62],[53,56,61],[28,29,33],[78,77,82],[130,128,133],[84,82,87],[54,52,57],[31,30,36],[64,64,72],[54,57,66],[31,35,44],[41,50,59],[32,47,52],[5,24,28],[1,20,24],[6,25,29]],[[14,25,29],[20,31,35],[31,42,46],[29,40,44],[55,65,67],[59,67,70],[30,38,41],[56,61,65],[98,103,107],[58,63,67],[22,29,35],[30,37,43],[64,73,80],[53,62,69],[33,44,50],[39,52,58],[21,39,43],[11,30,34],[5,24,28],[4,23,27]],[[25,43,45],[27,45,47],[41,56,59],[38,53,56],[49,63,64],[52,63,65],[21,32,34],[22,33,37],[51,62,66],[58,69,75],[43,56,62],[54,69,74],[64,79,84],[47,62,67],[35,50,53],[31,49,51],[21,39,43],[23,42,46],[15,34,38],[7,26,30]],[[6,30,32],[4,28,30],[16,37,38],[20,38,40],[42,58,58],[73,87,88],[81,95,98],[95,109,112],[75,90,95],[97,112,119],[80,97,104],[71,90,96],[56,75,79],[32,53,54],[29,49,48],[22,42,41],[16,36,37],[25,44,48],[17,36,40],[8,27,31]],[[9,33,35],[26,47,50],[56,74,76],[72,87,90],[87,98,100],[97,107,109],[92,99,105],[90,99,106],[108,118,127],[108,121,129],[89,103,112],[75,92,99],[66,84,88],[42,60,62],[41,57,57],[30,48,48],[18,38,39],[22,41,45],[13,32,36],[5,24,28]],[[56,69,77],[66,77,83],[77,84,90],[80,83,90],[85,84,90],[93,90,97],[98,92,102],[105,102,113],[106,104,117],[102,101,115],[98,100,113],[85,89,100],[90,94,103],[68,76,79],[67,72,75],[50,60,61],[34,49,52],[26,45,49],[14,33,37],[9,28,32]],[[37,47,56],[49,58,65],[62,69,77],[70,73,80],[80,79,87],[87,81,91],[91,85,97],[102,96,108],[98,94,108],[105,103,116],[118,117,131],[92,92,104],[92,95,104],[74,77,84],[75,78,83],[56,64,67],[48,63,66],[33,52,56],[21,40,44],[19,38,42]],[[27,42,47],[34,49,54],[44,57,63],[52,63,69],[58,67,74],[66,73,81],[78,82,91],[86,90,99],[88,92,101],[95,99,108],[102,109,119],[98,105,113],[84,91,99],[76,83,91],[71,78,84],[61,72,76],[46,64,68],[37,56,62],[26,45,51],[19,38,44]],[[19,37,41],[24,42,46],[33,48,53],[38,53,58],[43,56,62],[49,62,68],[59,70,76],[66,75,82],[64,73,80],[69,78,85],[77,86,93],[75,84,91],[65,74,81],[61,70,77],[59,70,76],[50,63,69],[39,56,63],[31,50,56],[22,41,47],[16,35,41]],[[12,31,35],[14,33,37],[19,37,41],[25,40,45],[30,43,49],[35,48,54],[42,53,59],[45,56,62],[44,53,60],[46,55,62],[52,61,68],[52,61,68],[44,55,61],[44,55,61],[45,56,62],[38,51,57],[30,47,54],[24,43,49],[17,36,42],[14,33,39]],[[10,29,33],[11,30,34],[14,32,36],[17,35,39],[24,37,43],[28,41,47],[33,44,50],[34,45,51],[39,48,55],[38,47,54],[42,51,58],[43,52,59],[36,47,53],[36,47,53],[36,47,53],[29,42,48],[24,41,48],[20,39,45],[16,35,41],[14,33,39]]],\"msg\":\"Believe in yourself.\"}\n",
      " 201\n",
      "--- 0.22700810432434082 seconds ---\n",
      "Getting Riddle... cv_easy\n",
      "--- 6.049501895904541 seconds ---\n",
      "Solving Riddle... cv_easy\n",
      "--- Server response time: 0.2057795524597168 seconds ---\n",
      "{\"budget_increase\":0,\"status\":\"failure\",\"total_budget\":0}\n",
      " 200\n",
      "--- 0.2057795524597168 seconds ---\n",
      "Getting Riddle... cv_hard\n",
      "--- 7.3689892292022705 seconds ---\n",
      "Time taken to get response from model:  4.945472955703735\n",
      "How many clocks have white frames?\n",
      " There are two clocks with white frames.\n",
      "No valid number words found! Please enter a valid number word (eg. two million twenty three thousand and forty nine)\n",
      "No valid number words found! Please enter a valid number word (eg. two million twenty three thousand and forty nine)\n",
      "two 2 ans= two \n",
      "No valid number words found! Please enter a valid number word (eg. two million twenty three thousand and forty nine)\n",
      "No valid number words found! Please enter a valid number word (eg. two million twenty three thousand and forty nine)\n",
      "No valid number words found! Please enter a valid number word (eg. two million twenty three thousand and forty nine)\n",
      "No valid number words found! Please enter a valid number word (eg. two million twenty three thousand and forty nine)\n",
      "ans=2\n",
      "Solving Riddle... cv_hard\n",
      "--- Server response time: 0.21436476707458496 seconds ---\n",
      "{\"budget_increase\":0,\"status\":\"failure\",\"total_budget\":0}\n",
      " 200\n",
      "--- 0.21436476707458496 seconds ---\n",
      "Getting Riddle... ml_easy\n",
      "--- 0.2976996898651123 seconds ---\n",
      "Solving Riddle... ml_easy\n",
      "--- Server response time: 0.21352934837341309 seconds ---\n",
      "{\"budget_increase\":1,\"status\":\"success\",\"total_budget\":1}\n",
      " 200\n",
      "--- 0.21352934837341309 seconds ---\n",
      "Getting Riddle... ml_medium\n",
      "--- 0.21317100524902344 seconds ---\n",
      "Solving Riddle... ml_medium\n",
      "--- Server response time: 0.2197725772857666 seconds ---\n",
      "{\"budget_increase\":2,\"status\":\"success\",\"total_budget\":3}\n",
      " 200\n",
      "--- 0.2197725772857666 seconds ---\n",
      "Getting Riddle... sec_medium_stegano\n",
      "--- 5.171221971511841 seconds ---\n",
      "Solving Riddle... sec_medium_stegano\n",
      "--- Server response time: 0.21004939079284668 seconds ---\n",
      "{\"budget_increase\":2,\"status\":\"success\",\"total_budget\":5}\n",
      " 200\n",
      "--- 0.21103429794311523 seconds ---\n",
      "Getting Riddle... sec_hard\n",
      "--- 0.2119464874267578 seconds ---\n",
      "Solving Riddle... sec_hard\n",
      "--- Server response time: 0.21080470085144043 seconds ---\n",
      "{\"budget_increase\":3,\"status\":\"success\",\"total_budget\":8}\n",
      " 200\n",
      "--- 0.21080470085144043 seconds ---\n",
      "Getting Riddle... problem_solving_easy\n",
      "--- 0.2346494197845459 seconds ---\n",
      "Solving Riddle... problem_solving_easy\n",
      "--- Server response time: 0.3080415725708008 seconds ---\n",
      "{\"budget_increase\":1,\"status\":\"success\",\"total_budget\":9}\n",
      " 200\n",
      "--- 0.3080415725708008 seconds ---\n",
      "Getting Riddle... problem_solving_medium\n",
      "--- 0.21384835243225098 seconds ---\n",
      "Solving Riddle... problem_solving_medium\n",
      "--- Server response time: 0.21162867546081543 seconds ---\n",
      "{\"budget_increase\":2,\"status\":\"success\",\"total_budget\":11}\n",
      " 200\n",
      "--- 0.21162867546081543 seconds ---\n",
      "Getting Riddle... problem_solving_hard\n",
      "--- 0.2113666534423828 seconds ---\n",
      "Solving Riddle... problem_solving_hard\n",
      "--- Server response time: 0.2093343734741211 seconds ---\n",
      "{\"budget_increase\":3,\"status\":\"success\",\"total_budget\":14}\n",
      " 200\n",
      "--- 0.2093343734741211 seconds ---\n",
      "['Believe', ' in yo', 'urself.']\n",
      "Sending chunk 1...\n",
      "--- 0.4831531047821045 seconds ---\n",
      "Sending chunk 2...\n",
      "--- 0.4853239059448242 seconds ---\n",
      "Sending chunk 2...\n",
      "--- 0.4865577220916748 seconds ---\n",
      "Ending game...\n",
      "--- 0.23157000541687012 seconds ---\n",
      "Game ended successfully with a score of 36.41529264. Which is not higher than your highest score.\n",
      "Done!\n",
      "Total attempt time:  30.222327709197998\n"
     ]
    }
   ],
   "source": [
    "fox.submit_fox_attempt()"
   ]
  },
  {
   "cell_type": "code",
   "execution_count": 6,
   "metadata": {},
   "outputs": [],
   "source": [
    "save_logs(\"fox_logs/fox_logs9.txt\")"
   ]
  },
  {
   "cell_type": "code",
   "execution_count": null,
   "metadata": {},
   "outputs": [],
   "source": []
  }
 ],
 "metadata": {
  "kernelspec": {
   "display_name": "base",
   "language": "python",
   "name": "python3"
  },
  "language_info": {
   "codemirror_mode": {
    "name": "ipython",
    "version": 3
   },
   "file_extension": ".py",
   "mimetype": "text/x-python",
   "name": "python",
   "nbconvert_exporter": "python",
   "pygments_lexer": "ipython3",
   "version": "3.11.5"
  }
 },
 "nbformat": 4,
 "nbformat_minor": 2
}
